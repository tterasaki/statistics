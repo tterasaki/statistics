{
 "cells": [
  {
   "cell_type": "code",
   "execution_count": 1,
   "metadata": {},
   "outputs": [],
   "source": [
    "import numpy as np\n",
    "import matplotlib as mpl\n",
    "import matplotlib.pyplot as plt\n",
    "from iminuit import Minuit\n",
    "\n",
    "## Setting matplotlib\n",
    "mpl.rcParams.update({'font.size': 14})\n",
    "mpl.rcParams.update({'axes.facecolor':'w'})\n",
    "mpl.rcParams.update({'axes.edgecolor':'k'})\n",
    "mpl.rcParams.update({'figure.facecolor':'w'})\n",
    "mpl.rcParams.update({'figure.edgecolor':'w'})\n",
    "mpl.rcParams.update({'axes.grid':True})\n",
    "mpl.rcParams.update({'grid.linestyle':':'})\n",
    "mpl.rcParams.update({'figure.figsize':[12,9]})\n",
    "\n",
    "#source codeの表示用\n",
    "from inspect import getsource"
   ]
  },
  {
   "cell_type": "markdown",
   "metadata": {},
   "source": [
    "# fitting1-3\n",
    "実験者の知らない系統誤差が存在していて、フィッテング関数が上手い関数でない場合。"
   ]
  },
  {
   "cell_type": "code",
   "execution_count": null,
   "metadata": {},
   "outputs": [],
   "source": []
  }
 ],
 "metadata": {
  "kernelspec": {
   "display_name": "Python 3",
   "language": "python",
   "name": "python3"
  },
  "language_info": {
   "codemirror_mode": {
    "name": "ipython",
    "version": 3
   },
   "file_extension": ".py",
   "mimetype": "text/x-python",
   "name": "python",
   "nbconvert_exporter": "python",
   "pygments_lexer": "ipython3",
   "version": "3.8.3"
  }
 },
 "nbformat": 4,
 "nbformat_minor": 4
}
