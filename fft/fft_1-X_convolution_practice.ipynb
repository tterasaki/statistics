{
 "cells": [
  {
   "cell_type": "code",
   "execution_count": 2,
   "metadata": {},
   "outputs": [],
   "source": [
    "import numpy as np\n",
    "import matplotlib.pyplot as plt\n",
    "import scipy.signal as signal\n",
    "import numpy.fft as fft"
   ]
  },
  {
   "cell_type": "code",
   "execution_count": 61,
   "metadata": {},
   "outputs": [
    {
     "name": "stdout",
     "output_type": "stream",
     "text": [
      "1.005349649148734e-05\n"
     ]
    },
    {
     "data": {
      "image/png": "[encoded data removed]",
      "text/plain": [
       "<Figure size 576x288 with 2 Axes>"
      ]
     },
     "metadata": {
      "needs_background": "light"
     },
     "output_type": "display_data"
    }
   ],
   "source": [
    "fs = 200 #Hz\n",
    "N = 1000\n",
    "t = np.linspace(0, (N-1)/fs, N)\n",
    "dt = t[1]-t[0]\n",
    "f = fft.fftfreq(t.shape[-1], d=t[1]-t[0])\n",
    "f = np.fft.fftshift(f)\n",
    "omega = 2*np.pi*f\n",
    "\n",
    "A = 100e-3 #100mK\n",
    "fc = 8 #Hz\n",
    "omega_c = 2*np.pi*fc #rad/s\n",
    "B = 0.001e-3 #mK\n",
    "\n",
    "df = f[1]-f[0]\n",
    "G1 = np.zeros_like(f)\n",
    "G1[np.argmin(np.abs(f-fc))] = A * omega_c / df\n",
    "G1[np.argmin(np.abs(f+fc))] = A * omega_c / df\n",
    "G1 += np.ones_like(f) * B\n",
    "\n",
    "sigma_wn = 1e-6 #s/sqrt(Hz)\n",
    "G2 = np.ones(len(f)) * sigma_wn\n",
    "G2_extend = np.ones(len(f) * 2) * sigma_wn\n",
    "\n",
    "fig, ax = plt.subplots(1, 2, figsize=(8, 4))\n",
    "ax[0].plot(f, G1)\n",
    "ax[0].plot(f, G2)\n",
    "ax[0].set_xlabel('Frequency [Hz]')\n",
    "ax[0].set_yscale('log')\n",
    "\n",
    "G1_G2 = np.convolve(G1, G2, mode='same') * df\n",
    "ax[1].plot(f, G1_G2)\n",
    "\n",
    "\n",
    "print(2 * sigma_wn * (A*omega_c + B*fs) )"
   ]
  },
  {
   "cell_type": "code",
   "execution_count": 60,
   "metadata": {},
   "outputs": [
    {
     "name": "stdout",
     "output_type": "stream",
     "text": [
      "1.0053096491487338e-05\n",
      "4e-10\n"
     ]
    }
   ],
   "source": [
    "print( 2 * sigma_wn * omega_c * A)\n",
    "print( 2 * sigma_wn * B * fs )"
   ]
  },
  {
   "cell_type": "code",
   "execution_count": null,
   "metadata": {},
   "outputs": [],
   "source": []
  }
 ],
 "metadata": {
  "kernelspec": {
   "display_name": "Python 3 (ipykernel)",
   "language": "python",
   "name": "python3"
  },
  "language_info": {
   "codemirror_mode": {
    "name": "ipython",
    "version": 3
   },
   "file_extension": ".py",
   "mimetype": "text/x-python",
   "name": "python",
   "nbconvert_exporter": "python",
   "pygments_lexer": "ipython3",
   "version": "3.9.12"
  },
  "orig_nbformat": 4
 },
 "nbformat": 4,
 "nbformat_minor": 2
}
