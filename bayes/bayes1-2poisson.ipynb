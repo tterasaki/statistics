{
 "cells": [
  {
   "cell_type": "markdown",
   "metadata": {},
   "source": [
    "# Poisson分布のベイズ分析\n",
    "ポアソン分布の確率関数は、\n",
    "$$\n",
    "p(x|\\lambda) = \\frac{\\lambda^x e^{-\\lambda}}{x!}\n",
    "$$\n",
    "である。$\\lambda$はポアソン分布の平均であるとともに、分散でもある。"
   ]
  },
  {
   "cell_type": "markdown",
   "metadata": {},
   "source": [
    "$\\lambda$の事前分布としてガンマ分布を仮定する。ガンマ関数の確率密度関数は、\n",
    "$$\n",
    "p(x|\\alpha, \\theta) =\n",
    "\\frac\n",
    "{x^{\\alpha -1} e^{-x/\\theta}}\n",
    "{\\Gamma(\\alpha) \\theta^\\alpha}\n",
    "$$\n",
    "である。今後$\\beta=1/\\theta$とし、\n",
    "$$\n",
    "p(x|\\alpha, \\beta) =\n",
    "\\frac\n",
    "{\\beta^\\alpha}\n",
    "{\\Gamma(\\alpha)}\n",
    "x^{\\alpha-1} e^{-\\beta x}\n",
    "$$\n",
    "とする。"
   ]
  },
  {
   "cell_type": "markdown",
   "metadata": {},
   "source": [
    "事前分布のパラメータを$\\alpha_0, \\beta_0$とすると、ベイズの定理より事後分布は、\n",
    "$$\n",
    "\\begin{align}\n",
    "p(\\lambda|D) &\\propto p(D|\\lambda) p(\\lambda) \\\\\n",
    "&\\propto \\left( \\prod_{i=1}^{n} p(x_i|\\lambda) \\right) p(\\lambda|\\alpha_0, \\beta_0) \\\\\n",
    "&\\propto \\left( \\prod_{i=1}^{n} \\lambda^{x_i} e^{-\\lambda} \\right) \\times \\lambda^{\\alpha_0 -1} e^{-\\beta_0 \\lambda} \\\\\n",
    "&\\propto \\lambda^{\\left(\\sum_{i=1}^{n} x_i \\right) + \\alpha_0 -1} e^{-(n+\\beta_0)\\lambda}\n",
    "\\end{align}\n",
    "$$"
   ]
  },
  {
   "cell_type": "markdown",
   "metadata": {},
   "source": [
    "となる。これは\n",
    "$$\n",
    "\\begin{align}\n",
    "\\alpha_* &= \\alpha_0 + \\sum_{i=0}^{n} x_i \\\\\n",
    "\\beta_* &= \\beta_0 + n\n",
    "\\end{align}\n",
    "$$\n",
    "としたガンマ分布に等しい。"
   ]
  },
  {
   "cell_type": "code",
   "execution_count": 1,
   "metadata": {},
   "outputs": [],
   "source": [
    "import scipy.stats as st\n",
    "import scipy.optimize as opt\n",
    "import pandas as pd\n",
    "import numpy as np\n",
    "import matplotlib.pyplot as plt\n",
    "from sklearn.preprocessing import scale\n",
    "\n",
    "def gamma_hpdi(ci0, alpha, theta, prob):\n",
    "    def hpdi_conditions(v, a, t, p):\n",
    "        eq1 = st.gamma.cdf(v[1], a, scale=t) - st.gamma.cdf(v[0], a, scale=t) - p\n",
    "        eq2 = st.gamma.pdf(v[0], a, scale=t) - st.gamma.pdf(v[1], a, scale=t)\n",
    "        return np.hstack((eq1, eq2))\n",
    "    return opt.root(hpdi_conditions, ci0, args=(alpha, theta, prob)).x\n",
    "\n",
    "def poisson_stats(data, a0, b0, prob):\n",
    "    \"\"\"\n",
    "    Input:\n",
    "        data: data\n",
    "        a0, b0: parameter of prior\n",
    "        prob: interval probability\n",
    "    Returns:\n",
    "        results: pandas dataframe of posterior\n",
    "        a_star, b_star: parameter of posterior\n",
    "    \"\"\"\n",
    "    n = data.size\n",
    "    a_star = data.sum() + a0\n",
    "    b_star = n + b0\n",
    "    theta_star = 1./b_star\n",
    "\n",
    "    mean_lam = st.gamma.mean(a_star, scale=theta_star)\n",
    "    median_lam = st.gamma.median(a_star, scale=theta_star)\n",
    "    mode_lam = (a_star - 1.)/b_star\n",
    "    sd_lam = st.gamma.std(a_star, scale=theta_star)\n",
    "    ci_lam = st.gamma.interval(prob, a_star, scale=theta_star)\n",
    "    hpdi_lam = gamma_hpdi(ci_lam, a_star, theta_star, prob)\n",
    "    stats = np.hstack((mean_lam, median_lam, mode_lam, sd_lam, ci_lam, hpdi_lam)).reshape((1, 8))\n",
    "    stats_string = ['mean', 'median', 'mode', 'sd', 'ci_low', 'ci_high', 'hpdi_low', 'hpdi_high']\n",
    "    param_string = ['lambda']\n",
    "    results = pd.DataFrame(stats, columns=stats_string, index=param_string)\n",
    "    return results, a_star, b_star"
   ]
  },
  {
   "cell_type": "code",
   "execution_count": 5,
   "metadata": {},
   "outputs": [
    {
     "data": {
      "image/png": "[encoded data removed]",
      "text/plain": [
       "<Figure size 432x288 with 1 Axes>"
      ]
     },
     "metadata": {
      "needs_background": "light"
     },
     "output_type": "display_data"
    }
   ],
   "source": [
    "lam = 3.0\n",
    "n = 50\n",
    "np.random.seed(99)\n",
    "data = st.poisson.rvs(lam, size=n)\n",
    "\n",
    "# prior\n",
    "a0 = 1.0\n",
    "b0 = 1.0\n",
    "prob = 0.95\n",
    "\n",
    "#calc posterior\n",
    "results, a_star, b_star = poisson_stats(data, a0, b0, prob)\n",
    "\n",
    "#plot\n",
    "fig = plt.figure()\n",
    "x = np.linspace(0, 6, 250)\n",
    "plt.plot(x, st.gamma.pdf(x, a0, scale=1./b0), 'r-', lw=2, alpha=0.6, label='prior')\n",
    "plt.plot(x, st.gamma.pdf(x, a_star, scale=1./b_star), 'b-', lw=2, alpha=0.6, label='posterior')\n",
    "plt.xlabel(r'$\\lambda$')\n",
    "plt.ylabel('probability density')\n",
    "plt.legend()\n",
    "plt.show()"
   ]
  },
  {
   "cell_type": "code",
   "execution_count": 6,
   "metadata": {},
   "outputs": [
    {
     "data": {
      "text/html": [
       "<div>\n",
       "<style scoped>\n",
       "    .dataframe tbody tr th:only-of-type {\n",
       "        vertical-align: middle;\n",
       "    }\n",
       "\n",
       "    .dataframe tbody tr th {\n",
       "        vertical-align: top;\n",
       "    }\n",
       "\n",
       "    .dataframe thead th {\n",
       "        text-align: right;\n",
       "    }\n",
       "</style>\n",
       "<table border=\"1\" class=\"dataframe\">\n",
       "  <thead>\n",
       "    <tr style=\"text-align: right;\">\n",
       "      <th></th>\n",
       "      <th>mean</th>\n",
       "      <th>median</th>\n",
       "      <th>mode</th>\n",
       "      <th>sd</th>\n",
       "      <th>ci_low</th>\n",
       "      <th>ci_high</th>\n",
       "      <th>hpdi_low</th>\n",
       "      <th>hpdi_high</th>\n",
       "    </tr>\n",
       "  </thead>\n",
       "  <tbody>\n",
       "    <tr>\n",
       "      <th>lambda</th>\n",
       "      <td>2.901961</td>\n",
       "      <td>2.895427</td>\n",
       "      <td>2.882353</td>\n",
       "      <td>0.23854</td>\n",
       "      <td>2.453271</td>\n",
       "      <td>3.387776</td>\n",
       "      <td>2.440932</td>\n",
       "      <td>3.374032</td>\n",
       "    </tr>\n",
       "  </tbody>\n",
       "</table>\n",
       "</div>"
      ],
      "text/plain": [
       "            mean    median      mode       sd    ci_low   ci_high  hpdi_low  \\\n",
       "lambda  2.901961  2.895427  2.882353  0.23854  2.453271  3.387776  2.440932   \n",
       "\n",
       "        hpdi_high  \n",
       "lambda   3.374032  "
      ]
     },
     "execution_count": 6,
     "metadata": {},
     "output_type": "execute_result"
    }
   ],
   "source": [
    "results"
   ]
  }
 ],
 "metadata": {
  "kernelspec": {
   "display_name": "Python 3 (ipykernel)",
   "language": "python",
   "name": "python3"
  },
  "language_info": {
   "codemirror_mode": {
    "name": "ipython",
    "version": 3
   },
   "file_extension": ".py",
   "mimetype": "text/x-python",
   "name": "python",
   "nbconvert_exporter": "python",
   "pygments_lexer": "ipython3",
   "version": "3.9.12"
  },
  "orig_nbformat": 4
 },
 "nbformat": 4,
 "nbformat_minor": 2
}
