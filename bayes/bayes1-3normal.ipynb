{
 "cells": [
  {
   "cell_type": "markdown",
   "metadata": {},
   "source": [
    "# 正規分布のベイズ分析"
   ]
  },
  {
   "cell_type": "markdown",
   "metadata": {},
   "source": [
    "正規分布の確率密度関数$\\mathcal{N}(\\mu, \\sigma^2)$は\n",
    "$$\n",
    "p(x|\\mu, \\sigma^2) = \n",
    "\\frac{1}{\\sqrt{2\\pi \\sigma^2}}\n",
    "\\exp\\left[\n",
    "    - \\frac{(x-\\mu)^2}{2\\sigma^2}\n",
    "\\right]\n",
    "$$"
   ]
  },
  {
   "cell_type": "markdown",
   "metadata": {},
   "source": [
    "正規分布のパラメータ$\\mu$, $\\sigma^2$が以下のような事前分布に従うとする。\n",
    "$$\n",
    "\\begin{align}\n",
    "\\mu|\\sigma^2 &\\sim \\mathcal{N} \\left(\\mu_0, \\frac{\\sigma}{n_0} \\right) \\\\\n",
    "\\sigma^2 &\\sim \\mathcal{G}a^{-1} \\left( \\frac{\\nu_0}{2}, \\frac{\\lambda_0}{2}\\right)\n",
    "\\end{align}\n",
    "$$"
   ]
  },
  {
   "cell_type": "markdown",
   "metadata": {},
   "source": [
    "$\\mathcal{G}a^{-1}$は逆ガンマ分布と呼ばれ、その確率密度関数は、\n",
    "$$\n",
    "p(x|\\alpha, \\beta) = \\frac{\\beta^\\alpha}{\\Gamma(\\alpha)} x^{-(\\alpha+1)} \\exp\\left(- \\frac{\\beta}{x}\\right)\n",
    "$$"
   ]
  },
  {
   "cell_type": "markdown",
   "metadata": {},
   "source": [
    "であらわされる。\n",
    "\n",
    "まとめると、$\\mu$, $\\sigma^2$の事前分布は、\n",
    "$$\n",
    "\\begin{align}\n",
    "p(\\mu, \\sigma^2) &= p(\\mu| \\sigma^2) p(\\sigma^2)\n",
    "\\\\\n",
    "p(\\mu| \\sigma^2) &= \\sqrt{\\frac{n_0}{2\\sigma^2}} \\exp\\left[-\\frac{n_0(\\mu - \\mu_0)^2}{2\\sigma^2}\\right]\n",
    "\\\\\n",
    "p(\\sigma^2) &= \\frac{(\\lambda_0/2)^{\\nu_0/2}}{\\Gamma(\\nu/2)} (\\sigma^2)^{-\\left( \\frac{\\nu_0}{2}+1 \\right) } \\exp\\left( - \\frac{\\lambda_0}{2\\sigma^2} \\right)\n",
    "\\end{align}\n",
    "$$"
   ]
  },
  {
   "cell_type": "markdown",
   "metadata": {},
   "source": [
    "で与えられる。"
   ]
  },
  {
   "cell_type": "markdown",
   "metadata": {},
   "source": [
    "また$p(\\mu|\\sigma^2)$を$\\sigma^2$について積分すると、$\\sigma^2$によらない$\\mu$の周辺事前分布が得られる。$\\mu$の周辺事前分布はt分布、\n",
    "$$\n",
    "\\begin{align}\n",
    "\\mu &\\sim \\mathcal{T}(\\nu_0, \\mu_0, \\tau_0^2) \\\\\n",
    "\\tau_0^2 &= \\frac{\\lambda_0}{\\nu_0 n_0}\n",
    "\\end{align}\n",
    "$$\n",
    "となる。"
   ]
  },
  {
   "cell_type": "markdown",
   "metadata": {},
   "source": [
    "ベイズの定理より、事前分布は\n",
    "$$\n",
    "\\begin{align}\n",
    "p&(\\mu, \\sigma^2|D) \\\\\n",
    "&\\propto p(D|\\mu, \\sigma) p(\\mu|\\sigma^2) p(\\sigma^2) \\\\\n",
    "&\\propto (\\sigma^2)^{-n/2} \\exp \\left[- \\frac{\\sum (x_i - \\bar{x} )^2 + n( \\bar{x} - \\mu)^2}{2\\sigma^2} \\right]\\\\\n",
    "&\\ \\ \\ \\ \\times (\\sigma^2)^{-1/2} \\exp \\left[ \\frac{n_0(\\mu-\\mu_0)^2}{2\\sigma^2} \\right] \\\\\n",
    "&\\ \\ \\ \\ \\times (\\sigma^2)^{-\\left(\\frac{\\nu_0}{2}+1\\right)} \\exp \\left[ - \\frac{\\lambda_0}{2\\sigma^2} \\right]\n",
    "\\end{align}\n",
    "$$"
   ]
  },
  {
   "cell_type": "markdown",
   "metadata": {},
   "source": [
    "これを整理すると、\n"
   ]
  },
  {
   "cell_type": "markdown",
   "metadata": {},
   "source": [
    "$$\n",
    "\\begin{align}\n",
    "p(\\mu, \\sigma^2|D) \\propto\n",
    "& (\\sigma^2)^{-1/2} \\exp \\left[ - \\frac{-n_* (\\mu-\\mu_*)^2}{2\\sigma^2} \\right] \\\\\n",
    "&\\times (\\sigma^2)^{-\\left(\\frac{\\nu_*}{2} + 1 \\right)} \\exp\\left(-\\frac{\\lambda_*}{2\\sigma^2}\\right)\n",
    "\\end{align}\n",
    "$$\n",
    "ただし\n",
    "$$\n",
    "\\begin{align}\n",
    "\\mu_* &= \\frac{n \\bar{x} + n_0 \\mu_0}{n+n_0}\\\\\n",
    "n_* &= n+n_0\\\\\n",
    "\\nu_* &= n + \\nu_0\\\\\n",
    "\\lambda_* &= \\sum_{i=1}^{n} (x_i - \\bar{x})^2 + \\frac{n n_0}{n + n_0} (\\mu_0 - \\bar{x})^2 + \\lambda_0\n",
    "\\end{align}\n",
    "$$\n",
    "となる。"
   ]
  },
  {
   "cell_type": "markdown",
   "metadata": {},
   "source": [
    "すなわち事後分布は、\n",
    "$$\n",
    "\\begin{align}\n",
    "\\mu|\\sigma^2 &\\sim \\mathcal{N} \\left(\\mu_*, \\frac{\\sigma}{n_*} \\right) \\\\\n",
    "\\sigma^2 &\\sim \\mathcal{G}a^{-1} \\left( \\frac{\\nu_*}{2}, \\frac{\\lambda_*}{2}\\right)\n",
    "\\end{align}\n",
    "$$\n",
    "となる。"
   ]
  },
  {
   "cell_type": "markdown",
   "metadata": {},
   "source": [
    "$p(\\mu|\\sigma^2)$を$\\sigma^2$について積分すると、$\\mu$の周辺事前分布が得られる。$\\mu$の周辺事前分布はt分布、\n",
    "$$\n",
    "\\begin{align}\n",
    "\\mu &\\sim \\mathcal{T}(\\nu_*, \\mu_*, \\tau_*^2) \\\\\n",
    "\\tau_*^2 &= \\frac{\\lambda_*}{\\nu_* n_*}\n",
    "\\end{align}\n",
    "$$\n",
    "となる。"
   ]
  },
  {
   "cell_type": "code",
   "execution_count": 1,
   "metadata": {},
   "outputs": [],
   "source": [
    "import numpy as np\n",
    "import scipy.stats as st\n",
    "import scipy.optimize as opt\n",
    "import pandas as pd\n",
    "import matplotlib.pyplot as plt\n"
   ]
  },
  {
   "cell_type": "code",
   "execution_count": 2,
   "metadata": {},
   "outputs": [],
   "source": [
    "def invgamma_hpdi(ci0, alpha, beta, prob):\n",
    "    \"\"\"\n",
    "    Input:\n",
    "        ci0: initial value for HPD interval\n",
    "        alpha, beta: pram for inv gamma function\n",
    "        prob: probability of HPD interval\n",
    "    Output:\n",
    "        HPD interval\n",
    "    \"\"\"\n",
    "    def hpdi_conditions(v, a, b, p):\n",
    "        eq1 = st.invgamma.cdf(v[1], a, scale=b) - st.invgamma.cdf(v[0], a, scale=b) - p\n",
    "        eq2 = st.invgamma.pdf(v[1], a, scale=b) - st.invgamma.pdf(v[0], a, scale=b)\n",
    "        return np.hstack((eq1, eq2))\n",
    "    return opt.root(hpdi_conditions, ci0, args=(alpha, beta, prob)).x\n",
    "    \n",
    "def gaussian_stats(data, mu0, n0, nu0, lam0, prob):\n",
    "    n = data.size\n",
    "    mean_data = data.mean()\n",
    "    ssd_data = n * data.var()\n",
    "    \n",
    "    n_star = n + n0\n",
    "    mu_star = (n * mean_data + n0*mu0)/n_star\n",
    "    nu_star = n + nu0\n",
    "    lam_star = ssd_data + n*n0/n_star * (mu0 - mean_data)**2 + lam0\n",
    "    tau_star = np.sqrt(lam_star/nu_star/n_star)\n",
    "\n",
    "    # posterior stats of mu\n",
    "    mean_mu, median_mu, mode_mu = mu_star, mu_star, mu_star\n",
    "    sd_mu = st.t.std(nu_star, loc=mu_star, scale=tau_star)\n",
    "    ci_mu = st.t.interval(prob, nu_star, loc=mu_star, scale=tau_star)\n",
    "    hpdi_mu = ci_mu\n",
    "    \n",
    "    # posterior stats of sigma2\n",
    "    mean_sigma2 = st.invgamma.mean(0.5*nu_star, scale=0.5*lam_star)\n",
    "    median_sigma2 = st.invgamma.median(0.5*nu_star, scale=0.5*lam_star)\n",
    "    mode_sigma2 = lam_star / (nu_star + 2.0)\n",
    "    sd_sigma2 = st.invgamma.std(0.5*nu_star, scale=0.5*lam_star)\n",
    "    ci_sigma2 = st.invgamma.interval(prob, 0.5*nu_star, scale=0.5*lam_star)\n",
    "    hpdi_sigma2 = invgamma_hpdi(ci_sigma2, 0.5*nu_star, 0.5*lam_star, prob)\n",
    "\n",
    "    # stats\n",
    "    stats_string = ['mean', 'median', 'mode', 'std', 'ci (lower)', 'ci (upper)', 'hpdi (lower)', 'hpdi (upper)']\n",
    "    stats_mu = np.hstack((mean_mu, median_mu, mode_mu, sd_mu, ci_mu, hpdi_mu))\n",
    "    stats_sigma2 = np.hstack((mean_sigma2, median_sigma2, mode_sigma2, sd_sigma2, ci_sigma2, hpdi_sigma2))\n",
    "    stats = np.vstack((stats_mu, stats_sigma2))\n",
    "    param_string = ['mu', 'sigma2']\n",
    "    results = pd.DataFrame(stats, index=param_string, columns=stats_string)\n",
    "    return results, mu_star, tau_star, nu_star, lam_star\n"
   ]
  },
  {
   "cell_type": "markdown",
   "metadata": {},
   "source": [
    "## Generate data and calculate posterior"
   ]
  },
  {
   "cell_type": "code",
   "execution_count": 19,
   "metadata": {},
   "outputs": [],
   "source": [
    "# Generate data\n",
    "mu = 1.0\n",
    "sigma = 2.0\n",
    "n = 50\n",
    "np.random.seed(99)\n",
    "data = st.norm.rvs(loc=mu, scale=sigma, size=n)\n",
    "\n",
    "# prior\n",
    "mu0 = 0.0\n",
    "n0 = 0.2\n",
    "nu0 = 5.0\n",
    "lam0 = 7.0\n",
    "tau0 = np.sqrt(lam0/nu0/n0)\n",
    "prob = 0.95\n",
    "\n",
    "# calc posterior\n",
    "results, mu_star, tau_star, nu_star, lam_star \\\n",
    "    = gaussian_stats(data, mu0, n0, nu0, lam0, prob)"
   ]
  },
  {
   "cell_type": "markdown",
   "metadata": {},
   "source": [
    "# See results and plot"
   ]
  },
  {
   "cell_type": "code",
   "execution_count": 20,
   "metadata": {},
   "outputs": [
    {
     "data": {
      "text/html": [
       "<div>\n",
       "<style scoped>\n",
       "    .dataframe tbody tr th:only-of-type {\n",
       "        vertical-align: middle;\n",
       "    }\n",
       "\n",
       "    .dataframe tbody tr th {\n",
       "        vertical-align: top;\n",
       "    }\n",
       "\n",
       "    .dataframe thead th {\n",
       "        text-align: right;\n",
       "    }\n",
       "</style>\n",
       "<table border=\"1\" class=\"dataframe\">\n",
       "  <thead>\n",
       "    <tr style=\"text-align: right;\">\n",
       "      <th></th>\n",
       "      <th>mean</th>\n",
       "      <th>median</th>\n",
       "      <th>mode</th>\n",
       "      <th>std</th>\n",
       "      <th>ci (lower)</th>\n",
       "      <th>ci (upper)</th>\n",
       "      <th>hpdi (lower)</th>\n",
       "      <th>hpdi (upper)</th>\n",
       "    </tr>\n",
       "  </thead>\n",
       "  <tbody>\n",
       "    <tr>\n",
       "      <th>mu</th>\n",
       "      <td>1.004282</td>\n",
       "      <td>1.004282</td>\n",
       "      <td>1.004282</td>\n",
       "      <td>0.271394</td>\n",
       "      <td>0.470378</td>\n",
       "      <td>1.538187</td>\n",
       "      <td>0.470378</td>\n",
       "      <td>1.538187</td>\n",
       "    </tr>\n",
       "    <tr>\n",
       "      <th>sigma2</th>\n",
       "      <td>3.697454</td>\n",
       "      <td>3.606622</td>\n",
       "      <td>3.437984</td>\n",
       "      <td>0.732205</td>\n",
       "      <td>2.532488</td>\n",
       "      <td>5.383935</td>\n",
       "      <td>2.402354</td>\n",
       "      <td>5.165040</td>\n",
       "    </tr>\n",
       "  </tbody>\n",
       "</table>\n",
       "</div>"
      ],
      "text/plain": [
       "            mean    median      mode       std  ci (lower)  ci (upper)  \\\n",
       "mu      1.004282  1.004282  1.004282  0.271394    0.470378    1.538187   \n",
       "sigma2  3.697454  3.606622  3.437984  0.732205    2.532488    5.383935   \n",
       "\n",
       "        hpdi (lower)  hpdi (upper)  \n",
       "mu          0.470378      1.538187  \n",
       "sigma2      2.402354      5.165040  "
      ]
     },
     "execution_count": 20,
     "metadata": {},
     "output_type": "execute_result"
    }
   ],
   "source": [
    "results"
   ]
  },
  {
   "cell_type": "code",
   "execution_count": 21,
   "metadata": {},
   "outputs": [
    {
     "data": {
      "image/png": "[encoded data removed]",
      "text/plain": [
       "<Figure size 576x288 with 2 Axes>"
      ]
     },
     "metadata": {
      "needs_background": "light"
     },
     "output_type": "display_data"
    }
   ],
   "source": [
    "fig, ax = plt.subplots(1, 2, figsize=(8,4))\n",
    "x1 = np.linspace(-6, 6, 250)\n",
    "ax[0].plot(x1, st.t.pdf(x1, nu0,     loc=mu0,     scale=tau0),     label='prior')\n",
    "ax[0].plot(x1, st.t.pdf(x1, nu_star, loc=mu_star, scale=tau_star), label='posterior')\n",
    "ax[0].set_xlabel(r'$\\mu$')\n",
    "ax[0].set_ylabel('Probability Distribution')\n",
    "ax[0].legend()\n",
    "\n",
    "x2 = np.linspace(0, 10, 250)\n",
    "ax[1].plot(x2, st.invgamma.pdf(x2, 0.5*nu0,     scale=0.5*lam0),     label='prior')\n",
    "ax[1].plot(x2, st.invgamma.pdf(x2, 0.5*nu_star, scale=0.5*lam_star), label='posterior')\n",
    "ax[1].set_xlabel(r'$\\sigma^2$')\n",
    "ax[1].set_ylabel('Possibility Distribution')\n",
    "ax[1].legend()\n",
    "\n",
    "fig.tight_layout()\n",
    "plt.show()"
   ]
  }
 ],
 "metadata": {
  "kernelspec": {
   "display_name": "Python 3.9.12 ('base': conda)",
   "language": "python",
   "name": "python3"
  },
  "language_info": {
   "codemirror_mode": {
    "name": "ipython",
    "version": 3
   },
   "file_extension": ".py",
   "mimetype": "text/x-python",
   "name": "python",
   "nbconvert_exporter": "python",
   "pygments_lexer": "ipython3",
   "version": "3.9.12"
  },
  "orig_nbformat": 4,
  "vscode": {
   "interpreter": {
    "hash": "326cfe3f4e3c99367511196ca433a8ed905653390835ea145ca34ca3928e7676"
   }
  }
 },
 "nbformat": 4,
 "nbformat_minor": 2
}
